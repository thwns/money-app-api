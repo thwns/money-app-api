{
 "cells": [
  {
   "cell_type": "code",
   "execution_count": 24,
   "id": "f1307bb7-8d3c-4f59-a6ef-e35004b9dd93",
   "metadata": {},
   "outputs": [
    {
     "name": "stdout",
     "output_type": "stream",
     "text": [
      "['Mozzarella', 'Cinderealla']\n"
     ]
    }
   ],
   "source": [
    "things = [\"mozzarella\", \"cinderealla\", \"salmonella\"]\n",
    "things = [thing.capitalize() for thing in things]\n",
    "del things[2]\n",
    "print(things)"
   ]
  },
  {
   "cell_type": "code",
   "execution_count": 41,
   "id": "2551b60a-8ef0-4eae-a870-c5e8410b348d",
   "metadata": {},
   "outputs": [
    {
     "data": {
      "text/plain": [
       "['Groucho', 'Chico', 'Oprah']"
      ]
     },
     "execution_count": 41,
     "metadata": {},
     "output_type": "execute_result"
    }
   ],
   "source": [
    "surprise = [\"Groucho\", \"Chico\", \"Harpo\"]\n",
    "surprise[2] = ''.join(list(surprise[2].lower())[::-1]).capitalize()\n",
    "surprise"
   ]
  },
  {
   "cell_type": "code",
   "execution_count": 42,
   "id": "ad7fb701-9a3e-455e-8a68-c0b88ddbb5e0",
   "metadata": {},
   "outputs": [
    {
     "data": {
      "text/plain": [
       "[0, 2, 4, 6, 8]"
      ]
     },
     "execution_count": 42,
     "metadata": {},
     "output_type": "execute_result"
    }
   ],
   "source": [
    "[num for num in range(10) if num % 2 == 0]"
   ]
  },
  {
   "cell_type": "code",
   "execution_count": 49,
   "id": "e1d55266-bf3e-4283-8c10-6b24f391d5ce",
   "metadata": {},
   "outputs": [
    {
     "ename": "TypeError",
     "evalue": "'tuple' object does not support item assignment",
     "output_type": "error",
     "traceback": [
      "\u001b[1;31m---------------------------------------------------------------------------\u001b[0m",
      "\u001b[1;31mTypeError\u001b[0m                                 Traceback (most recent call last)",
      "\u001b[1;32m~\\AppData\\Local\\Temp/ipykernel_26376/2930475052.py\u001b[0m in \u001b[0;36m<module>\u001b[1;34m\u001b[0m\n\u001b[0;32m     12\u001b[0m \u001b[0mstart1\u001b[0m \u001b[1;33m=\u001b[0m \u001b[1;33m[\u001b[0m\u001b[0mstart\u001b[0m\u001b[1;33m.\u001b[0m\u001b[0mcapitalize\u001b[0m\u001b[1;33m(\u001b[0m\u001b[1;33m)\u001b[0m \u001b[1;32mfor\u001b[0m \u001b[0mstart\u001b[0m \u001b[1;32min\u001b[0m \u001b[0mstart1\u001b[0m\u001b[1;33m]\u001b[0m\u001b[1;33m\u001b[0m\u001b[1;33m\u001b[0m\u001b[0m\n\u001b[0;32m     13\u001b[0m \u001b[1;32mfor\u001b[0m \u001b[0mrhyme\u001b[0m \u001b[1;32min\u001b[0m \u001b[0mrhymes\u001b[0m\u001b[1;33m:\u001b[0m\u001b[1;33m\u001b[0m\u001b[1;33m\u001b[0m\u001b[0m\n\u001b[1;32m---> 14\u001b[1;33m     \u001b[0mrhyme\u001b[0m\u001b[1;33m[\u001b[0m\u001b[1;36m0\u001b[0m\u001b[1;33m]\u001b[0m \u001b[1;33m=\u001b[0m \u001b[0mrhyme\u001b[0m\u001b[1;33m[\u001b[0m\u001b[1;36m0\u001b[0m\u001b[1;33m]\u001b[0m\u001b[1;33m.\u001b[0m\u001b[0mcapitalize\u001b[0m\u001b[1;33m(\u001b[0m\u001b[1;33m)\u001b[0m\u001b[1;33m\u001b[0m\u001b[1;33m\u001b[0m\u001b[0m\n\u001b[0m\u001b[0;32m     15\u001b[0m \u001b[0mprint\u001b[0m\u001b[1;33m(\u001b[0m\u001b[0mstart1\u001b[0m\u001b[1;33m,\u001b[0m \u001b[0mrhymes\u001b[0m\u001b[1;33m)\u001b[0m\u001b[1;33m\u001b[0m\u001b[1;33m\u001b[0m\u001b[0m\n\u001b[0;32m     16\u001b[0m \u001b[1;32mfor\u001b[0m \u001b[0mjump\u001b[0m\u001b[1;33m,\u001b[0m \u001b[0msharpend\u001b[0m \u001b[1;32min\u001b[0m \u001b[0mrhymes\u001b[0m\u001b[1;33m:\u001b[0m\u001b[1;33m\u001b[0m\u001b[1;33m\u001b[0m\u001b[0m\n",
      "\u001b[1;31mTypeError\u001b[0m: 'tuple' object does not support item assignment"
     ]
    }
   ],
   "source": [
    "start1 = [\"fee\", \"fie\", \"foe\"]\n",
    "rhymes = [(\"flop\", \"get a mop\"),\n",
    "          (\"fope\", \"turn the rope\"),\n",
    "          (\"fa\", \"get your ma\"),\n",
    "          (\"fudge\", \"call the judge\"),\n",
    "          (\"fat\", \"pet the cat\"),\n",
    "          (\"fog\", \"walk the dog\"),\n",
    "          (\"fun\", \"say we're done\"),\n",
    "         ]\n",
    "start2 = \"Someone better\"\n",
    "\n",
    "start1 = [start.capitalize() for start in start1]\n",
    "for rhyme in rhymes:\n",
    "    rhyme[0] = rhyme[0].capitalize()\n",
    "print(start1, rhymes)\n",
    "for jump, sharpend in rhymes:\n",
    "    print(f\"start\")"
   ]
  },
  {
   "cell_type": "code",
   "execution_count": 2,
   "id": "49c405ed-2baa-4226-b4cb-787244280b55",
   "metadata": {},
   "outputs": [
    {
     "name": "stdout",
     "output_type": "stream",
     "text": [
      "['a']\n",
      "['b']\n"
     ]
    }
   ],
   "source": [
    "def nonbuggy(arg, result=None):\n",
    "    if result is None:\n",
    "        result = []\n",
    "    result.append(arg)\n",
    "    print(result)\n",
    "\n",
    "nonbuggy('a')\n",
    "nonbuggy('b')"
   ]
  },
  {
   "cell_type": "code",
   "execution_count": 5,
   "id": "3d10a81e-c87d-4089-aeba-5f7a526e1b32",
   "metadata": {},
   "outputs": [
    {
     "name": "stdout",
     "output_type": "stream",
     "text": [
      "['a']\n",
      "['a', 'b']\n"
     ]
    }
   ],
   "source": [
    "def nonbuggy(arg, result=[]):\n",
    "    result.append(arg)\n",
    "    print(result)\n",
    "\n",
    "nonbuggy('a')\n",
    "nonbuggy('b')"
   ]
  },
  {
   "cell_type": "code",
   "execution_count": 14,
   "id": "4a9116c4-7f12-41fc-91fd-38dfce7c1709",
   "metadata": {},
   "outputs": [
    {
     "name": "stdout",
     "output_type": "stream",
     "text": [
      "['When', 'an', 'eel', 'grabs', 'your', 'arm,', 'And', 'it', 'causes', 'great', 'harm,', \"That's\", '-', 'moray!']\n",
      "Moray!\n",
      "When an eel grabs your arm, And it causes great harm, That's - Moray!\n"
     ]
    }
   ],
   "source": [
    "#5.1 m으로 시작하는 단어를 대문자로 만들어보자.\n",
    "\n",
    "song = \"\"\"When an eel grabs your arm, And it causes great harm,\n",
    "That's  - moray!\"\"\"\n",
    "\n",
    "#my solution\n",
    "\n",
    "song_list = song.split()\n",
    "song_answer_list = []\n",
    "for song_element in song_list:\n",
    "    if song_element[0] == \"m\":\n",
    "        song_element = song_element.replace(song_element[0],\"M\")\n",
    "        song_answer_list.append(song_element)\n",
    "    else:\n",
    "        song_answer_list.append(song_element)\n",
    "song_answer = ' '.join(song_answer_list)"
   ]
  },
  {
   "cell_type": "code",
   "execution_count": 3,
   "id": "f531430f-73f5-40da-9724-6c988fa87aed",
   "metadata": {},
   "outputs": [
    {
     "data": {
      "text/plain": [
       "64"
      ]
     },
     "execution_count": 3,
     "metadata": {},
     "output_type": "execute_result"
    }
   ],
   "source": [
    "#9.9 decorator\n",
    "\n",
    "def document_it(func):\n",
    "    def new_function(*args, **kwargs):\n",
    "        print('Running function: ', func.__name__)\n",
    "        print('Positional arguments: ', args)\n",
    "        print('Keyword arguments: ', kwargs)\n",
    "        result = func(*args, **kwargs)\n",
    "        print('Result: ', result)\n",
    "        return result\n",
    "    return new_function\n",
    "\n",
    "def add_ints(a, b):\n",
    "    return a + b\n",
    "\n",
    "def square_it(func):\n",
    "    def new_function(*args, **kwargs):\n",
    "        result = func(*args, **kwargs)\n",
    "        return result * result\n",
    "    return new_function\n",
    "\n",
    "cool_add_int = document_it(square_it)\n",
    "cooler_add_ints = square_it(add_ints)\n",
    "cooler_add_ints(3,5)"
   ]
  },
  {
   "cell_type": "code",
   "execution_count": 6,
   "id": "f28e9683-69c0-4294-9185-234488d3714c",
   "metadata": {},
   "outputs": [
    {
     "name": "stdout",
     "output_type": "stream",
     "text": [
      "inside print_global: fruitbat\n",
      "inside change_and_print_global: fruitbat\n",
      "after the change: wombat\n"
     ]
    }
   ],
   "source": [
    "#9.10 namespace and scope\n",
    "\n",
    "animal = \"fruitbat\"\n",
    "def print_global():\n",
    "    print('inside print_global:', animal)\n",
    "\n",
    "def change_and_print_global():\n",
    "    global animal\n",
    "    print('inside change_and_print_global:', animal)\n",
    "    animal = 'wombat'\n",
    "    print('after the change:', animal)\n",
    "    \n",
    "print_global()\n",
    "change_and_print_global()"
   ]
  },
  {
   "cell_type": "code",
   "execution_count": 14,
   "id": "a10e72b4-c4b4-4cea-ae97-2810540dc961",
   "metadata": {},
   "outputs": [
    {
     "data": {
      "text/plain": [
       "[]"
      ]
     },
     "execution_count": 14,
     "metadata": {},
     "output_type": "execute_result"
    }
   ],
   "source": [
    "#9.12 recursion function\n",
    "\n",
    "def flatten(lol):\n",
    "    for item in lol:\n",
    "        if isinstance(item, list):\n",
    "            for subitem in flatten(item):\n",
    "                yield subitem\n",
    "        else:\n",
    "            yield item\n",
    "            \n",
    "\n",
    "lol = [1,2, [3,4,5], [6,[7,8,9], []]]\n",
    "list(flatten(lol))\n",
    "                "
   ]
  },
  {
   "cell_type": "code",
   "execution_count": 33,
   "id": "8093ab65-f20d-421b-b39c-7c3c234050f7",
   "metadata": {},
   "outputs": [
    {
     "name": "stdout",
     "output_type": "stream",
     "text": [
      "5\n",
      "start\n",
      "end\n"
     ]
    },
    {
     "data": {
      "text/plain": [
       "['Harry', 'Ron', 'Herminone']"
      ]
     },
     "execution_count": 33,
     "metadata": {},
     "output_type": "execute_result"
    }
   ],
   "source": [
    "#9.16 연습문제\n",
    "\n",
    "#9.1 \n",
    "def good():\n",
    "    return ['Harry', 'Ron', 'hermione']\n",
    "good()\n",
    "\n",
    "#9.2\n",
    "get_odds = [i for i in range(10)]\n",
    "odd_number_times = 0\n",
    "for value in get_odds:\n",
    "    if value % 2 == 1:\n",
    "        odd_number_times += 1\n",
    "    if odd_number_times == 3:\n",
    "        print(value)\n",
    "        break\n",
    "        \n",
    "#9.3\n",
    "def test(func):\n",
    "    def new_function(*args, **kwargs):\n",
    "        print('start')\n",
    "        result = func(*args, **kwargs)\n",
    "        print('end')\n",
    "        return result\n",
    "    return new_function\n",
    "\n",
    "@test\n",
    "def good():\n",
    "    return['Harry', 'Ron', 'Herminone']\n",
    "\n",
    "good()"
   ]
  },
  {
   "cell_type": "code",
   "execution_count": null,
   "id": "9dcfe063-af13-48ad-b7b0-41a4d335eaab",
   "metadata": {},
   "outputs": [],
   "source": []
  }
 ],
 "metadata": {
  "kernelspec": {
   "display_name": "Python 3 (ipykernel)",
   "language": "python",
   "name": "python3"
  },
  "language_info": {
   "codemirror_mode": {
    "name": "ipython",
    "version": 3
   },
   "file_extension": ".py",
   "mimetype": "text/x-python",
   "name": "python",
   "nbconvert_exporter": "python",
   "pygments_lexer": "ipython3",
   "version": "3.9.7"
  }
 },
 "nbformat": 4,
 "nbformat_minor": 5
}
