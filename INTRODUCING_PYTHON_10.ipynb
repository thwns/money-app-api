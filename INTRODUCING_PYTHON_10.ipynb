{
 "cells": [
  {
   "cell_type": "code",
   "execution_count": 4,
   "id": "0725ac87-58cc-459f-90f9-1b0ce1c3dbc0",
   "metadata": {},
   "outputs": [
    {
     "name": "stdout",
     "output_type": "stream",
     "text": [
      "<__main__.Thing object at 0x000002426B2F6EB0>\n",
      "<__main__.Thing object at 0x000002426B2F6070>\n"
     ]
    }
   ],
   "source": [
    "class Thing():\n",
    "    pass\n",
    "\n",
    "example = Thing()\n",
    "print(example)\n",
    "print(Thing())"
   ]
  },
  {
   "cell_type": "code",
   "execution_count": 12,
   "id": "409a4320-339d-4c08-bd36-7fea3eb9d517",
   "metadata": {},
   "outputs": [
    {
     "data": {
      "text/plain": [
       "'abc'"
      ]
     },
     "execution_count": 12,
     "metadata": {},
     "output_type": "execute_result"
    }
   ],
   "source": [
    "#10.2\n",
    "\n",
    "class Thing2():\n",
    "    letters = 'abc'\n",
    "\n",
    "Thing2.letters"
   ]
  },
  {
   "cell_type": "code",
   "execution_count": 13,
   "id": "803cd751-b102-4adf-a6d9-7acb1df816ff",
   "metadata": {},
   "outputs": [
    {
     "data": {
      "text/plain": [
       "'abc'"
      ]
     },
     "execution_count": 13,
     "metadata": {},
     "output_type": "execute_result"
    }
   ],
   "source": [
    "#10.3\n",
    "\n",
    "class Thing3():\n",
    "    def __init__(self):\n",
    "        self.letters = 'abc'\n",
    "\n",
    "classic = Thing3()\n",
    "classic.letters"
   ]
  },
  {
   "cell_type": "code",
   "execution_count": 29,
   "id": "be8b6d60-621a-4f19-b7c0-62325535090d",
   "metadata": {},
   "outputs": [
    {
     "name": "stdout",
     "output_type": "stream",
     "text": [
      "name=Hydrogen, symbol=H, number=1\n"
     ]
    }
   ],
   "source": [
    "#10.5,6\n",
    "from collections import namedtuple\n",
    "el_dict = {'name': 'Hydrogen', 'symbol': 'H', 'number': 1}\n",
    "\n",
    "class Element():\n",
    "    def __init__(self, name, symbol, number):\n",
    "        self.name = name\n",
    "        self.symbol = symbol\n",
    "        self.number = number\n",
    "    \n",
    "    def dump(self):\n",
    "        print('name=%s, symbol=%s, number=%s' % (self.name, self.symbol, self.number))\n",
    "\n",
    "classic = Element(**el_dict)\n",
    "classic.dump()"
   ]
  },
  {
   "cell_type": "code",
   "execution_count": 31,
   "id": "bfe1ecde-84ac-4ab9-b0ef-60bba0064fc6",
   "metadata": {},
   "outputs": [
    {
     "name": "stdout",
     "output_type": "stream",
     "text": [
      "name=Hydrogen, symbol=H, number=1\n"
     ]
    }
   ],
   "source": [
    "#10.7\n",
    "from collections import namedtuple\n",
    "el_dict = {'name': 'Hydrogen', 'symbol': 'H', 'number': 1}\n",
    "\n",
    "class Element():\n",
    "    def __init__(self, name, symbol, number):\n",
    "        self.name = name\n",
    "        self.symbol = symbol\n",
    "        self.number = number\n",
    "    \n",
    "    def __str__(self):\n",
    "        return('name=%s, symbol=%s, number=%s' % (self.name, self.symbol, self.number))\n",
    "\n",
    "hydrogen = Element(**el_dict)\n",
    "print(hydrogen)"
   ]
  },
  {
   "cell_type": "code",
   "execution_count": 32,
   "id": "c599d887-d379-46d9-9605-d8fbe41aef97",
   "metadata": {},
   "outputs": [
    {
     "name": "stdout",
     "output_type": "stream",
     "text": [
      "name=Hydrogen, symbol=H, number=1\n"
     ]
    }
   ],
   "source": [
    "#10.8\n",
    "from collections import namedtuple\n",
    "el_dict = {'name': 'Hydrogen', 'symbol': 'H', 'number': 1}\n",
    "\n",
    "class Element():\n",
    "    def __init__(self, name, symbol, number):\n",
    "        self.__name = name\n",
    "        self.__symbol = symbol\n",
    "        self.__number = number\n",
    "    \n",
    "    @property\n",
    "    def name(self):\n",
    "        return self.__name\n",
    "    \n",
    "    @property\n",
    "    def symbol(self):\n",
    "        return self.__symbol\n",
    "    \n",
    "    @property\n",
    "    def number(self):\n",
    "        return self.__number\n",
    "    \n",
    "    def __str__(self):\n",
    "        return('name=%s, symbol=%s, number=%s' % (self.name, self.symbol, self.number))\n",
    "\n",
    "hydrogen = Element(**el_dict)\n",
    "print(hydrogen)"
   ]
  },
  {
   "cell_type": "code",
   "execution_count": null,
   "id": "7b0d6b1b-6b33-4710-b36b-db4bbb4d8dfc",
   "metadata": {},
   "outputs": [],
   "source": [
    "#10.9\n",
    "class Bear():\n",
    "    def eats(self):\n",
    "        return 'berries'\n",
    "class Rabbit():\n",
    "    def eats(self):\n",
    "        return 'clover'\n",
    "class Octothorpe():\n",
    "    def eats(self):\n",
    "        return 'campers'"
   ]
  },
  {
   "cell_type": "code",
   "execution_count": 44,
   "id": "85bc3243-264e-4bc8-ab6b-8d0afb1af79f",
   "metadata": {},
   "outputs": [
    {
     "data": {
      "text/plain": [
       "'laser:disintegrate, claw:crush, smartphone:ring'"
      ]
     },
     "execution_count": 44,
     "metadata": {},
     "output_type": "execute_result"
    }
   ],
   "source": [
    "#10.10\n",
    "class Laser():\n",
    "    def does(self):\n",
    "        return 'disintegrate'\n",
    "\n",
    "class Claw():\n",
    "    def does(self):\n",
    "        return 'crush'\n",
    "    \n",
    "class SmartPhone():\n",
    "    def does(self):\n",
    "        return 'ring'\n",
    "    \n",
    "class Robot():\n",
    "    def __init__(self):\n",
    "        self.laser = Laser()\n",
    "        self.claw = Claw()\n",
    "        self.smartphone = SmartPhone()\n",
    "    \n",
    "    def did(self):\n",
    "        return 'laser:%s, claw:%s, smartphone:%s' % (self.laser.does(), self.claw.does(), self.smartphone.does())\n",
    "\n",
    "robot = Robot()\n",
    "robot.did()"
   ]
  },
  {
   "cell_type": "code",
   "execution_count": null,
   "id": "a420c195-142c-4264-846a-2f42435e19d2",
   "metadata": {},
   "outputs": [],
   "source": []
  }
 ],
 "metadata": {
  "kernelspec": {
   "display_name": "Python 3 (ipykernel)",
   "language": "python",
   "name": "python3"
  },
  "language_info": {
   "codemirror_mode": {
    "name": "ipython",
    "version": 3
   },
   "file_extension": ".py",
   "mimetype": "text/x-python",
   "name": "python",
   "nbconvert_exporter": "python",
   "pygments_lexer": "ipython3",
   "version": "3.9.7"
  }
 },
 "nbformat": 4,
 "nbformat_minor": 5
}
